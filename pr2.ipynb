{
  "nbformat": 4,
  "nbformat_minor": 0,
  "metadata": {
    "colab": {
      "provenance": []
    },
    "kernelspec": {
      "name": "python3",
      "display_name": "Python 3"
    },
    "language_info": {
      "name": "python"
    }
  },
  "cells": [
    {
      "cell_type": "markdown",
      "source": [
        "#Практическая работа 2\n",
        "Изучить основные типы атак на веб-приложения: SQL-инъекции, XSS, DDoS.\n"
      ],
      "metadata": {
        "id": "xmQpkANo-qq4"
      }
    },
    {
      "cell_type": "code",
      "source": [
        "import pandas as pd #таблицы\n",
        "import numpy as np #массивы\n",
        "import random #рандомные числа\n",
        "import gym # среда для обучения с подкреплением\n",
        "import torch # фреймворк для машиного обучения\n",
        "import torch.nn as nn #реализация слоев для нейтронных сетей\n",
        "import torch.optim as optim #оптимизация параметров нейроной сети"
      ],
      "metadata": {
        "id": "kg4xcX_r-3A-"
      },
      "execution_count": null,
      "outputs": []
    },
    {
      "cell_type": "code",
      "source": [
        "from tqdm import trange #визуализация прогрессов\n",
        "from gym import spaces\n",
        "from sklearn.model_selection import train_test_split\n",
        "from sklearn.preprocessing import StandardScaler\n",
        "from sklearn.metrics import classification_report, confusion_matrix\n",
        "from collections import deque"
      ],
      "metadata": {
        "id": "LkM_WrbA4vIS"
      },
      "execution_count": null,
      "outputs": []
    },
    {
      "cell_type": "code",
      "source": [
        "webattacks = pd.read_csv(\"Thursday.csv\")#загрузка CSV-файлов\n",
        "ddos = pd.read_csv(\"Friday.csv\")\n",
        "normal = pd.read_csv(\"Monday.csv\")"
      ],
      "metadata": {
        "id": "szJu_22a-9fC"
      },
      "execution_count": null,
      "outputs": []
    },
    {
      "cell_type": "markdown",
      "source": [
        "Подготовка данных для задачи классификации, связанной с обнаружением атак в сетевом трафике. Он включает в себя назначение меток, объединение данных, создание целевой переменной, очистку данных, нормализацию, разделение на обучающую и тестовую выборки, а также вывод информации о форме выборок и балансе классов"
      ],
      "metadata": {
        "id": "7BK7eIvx-VlH"
      }
    },
    {
      "cell_type": "code",
      "execution_count": null,
      "metadata": {
        "colab": {
          "base_uri": "https://localhost:8080/"
        },
        "id": "6bTwipTJ4EBL",
        "outputId": "6c78ee1f-dac2-4762-ad49-7d3befee2ee2"
      },
      "outputs": [
        {
          "output_type": "stream",
          "name": "stdout",
          "text": [
            "Форма обучающей выборки: (740338, 78)\n",
            "Форма тестовой выборки: (185085, 78)\n",
            "Баланс классов (обучение): [636174 104164]\n"
          ]
        }
      ],
      "source": [
        "# Назначаем метки для различных типов атак\n",
        "webattacks = webattacks.assign(attack_type=\"WebAttack\")  # Метка для веб-атак\n",
        "ddos = ddos.assign(attack_type=\"DDoS\")                    # Метка для DDoS-атак\n",
        "normal = normal.assign(attack_type=\"Normal\")              # Метка для нормального трафика\n",
        "\n",
        "# Объединяем все датафреймы в один\n",
        "combined_data = pd.concat([webattacks, ddos, normal], axis=0, ignore_index=True)\n",
        "combined_data.columns = combined_data.columns.str.strip()  # Удаляем лишние пробелы из названий столбцов\n",
        "\n",
        "# Создаем целевую переменную: 1 - атака, 0 - нормальный трафик\n",
        "combined_data[\"is_attack\"] = combined_data[\"Label\"].map(lambda lbl: 0 if lbl == \"BENIGN\" else 1)\n",
        "\n",
        "# Заменяем бесконечные значения на NaN и удаляем строки с NaN\n",
        "cleaned_data = combined_data.replace([np.inf, -np.inf], np.nan).dropna()\n",
        "\n",
        "# Выбираем признаки, исключая целевую переменную и метки\n",
        "feature_cols = [col for col in cleaned_data.columns if col not in {\"Label\", \"attack_type\", \"is_attack\"}]\n",
        "X = cleaned_data[feature_cols]  # Признаки\n",
        "y = cleaned_data[\"is_attack\"]    # Целевая переменная\n",
        "\n",
        "# Создаем объект для нормализации данных\n",
        "scaler = StandardScaler()\n",
        "X_normalized = scaler.fit_transform(X)  # Нормализуем признаки\n",
        "\n",
        "# Разделяем данные на обучающую и тестовую выборки\n",
        "X_train, X_test, y_train, y_test = train_test_split(\n",
        "    X_normalized, y,\n",
        "    test_size=0.2,  # 20% данных отводится для тестирования\n",
        "    random_state=42,  # Фиксированное значение для воспроизводимости\n",
        "    stratify=y  # Сохраняем пропорции классов в выборках\n",
        ")\n",
        "\n",
        "# Выводим информацию о формах выборок и балансе классов\n",
        "print(\"Форма обучающей выборки:\", X_train.shape)\n",
        "print(\"Форма тестовой выборки:\", X_test.shape)\n",
        "print(\"Баланс классов (обучение):\", np.bincount(y_train))\n"
      ]
    },
    {
      "cell_type": "markdown",
      "source": [
        "4) Создаю среду RL: TrafficEnv"
      ],
      "metadata": {
        "id": "pj4HAn5EAvlo"
      }
    },
    {
      "cell_type": "code",
      "source": [
        "class NetworkTrafficEnvironment(gym.Env):\n",
        "    def __init__(self, features, labels):\n",
        "        super(NetworkTrafficEnvironment, self).__init__()\n",
        "        self.feature_data = features\n",
        "        self.target_labels = labels\n",
        "        self.data_position = 0\n",
        "\n",
        "\n",
        "        self.observation_space = spaces.Box( #определение пространства наблюдений и действий\n",
        "            low=-np.inf,\n",
        "            high=np.inf,\n",
        "            shape=(features.shape[1],),\n",
        "            dtype=np.float32\n",
        "        )\n",
        "        self.action_space = spaces.Discrete(2)  #0 - пропустить, 1 - заблокировать\n",
        "\n",
        "    def reset(self):\n",
        "        \"\"\"Сброс среды к начальному состоянию\"\"\"\n",
        "        self.data_position = 0\n",
        "        return self.feature_data[self.data_position]\n",
        "\n",
        "    def step(self, action):\n",
        "        \"\"\"Выполнение одного шага в среде\"\"\"\n",
        "        current_label = self.target_labels[self.data_position]\n",
        "\n",
        "\n",
        "        reward = 1 if action == current_label else -1#вычисление награды\n",
        "\n",
        "\n",
        "        self.data_position += 1\n",
        "        episode_completed = self.data_position >= len(self.feature_data)#обновление позиции и проверка завершения эпизода\n",
        "\n",
        "\n",
        "        next_state = (#получение следующего состояния\n",
        "            self.feature_data[self.data_position] if not episode_completed\n",
        "            else np.zeros_like(self.feature_data[0])\n",
        "        )\n",
        "\n",
        "        return next_state, reward, episode_completed, {}\n",
        "\n",
        "    def render(self, mode=\"human\"):\n",
        "        pass"
      ],
      "metadata": {
        "id": "Nu_DjrunAv0d"
      },
      "execution_count": null,
      "outputs": []
    },
    {
      "cell_type": "code",
      "source": [
        "# Определяем нейросетевую модель для Q-обучения\n",
        "class DeepQNetwork(nn.Module):\n",
        "    def __init__(self, input_size, num_actions):\n",
        "        super(DeepQNetwork, self).__init__()\n",
        "        # Определяем слои нейросети\n",
        "        self.network = nn.Sequential(\n",
        "            nn.Linear(input_size, 128),  # Первый слой\n",
        "            nn.ReLU(inplace=True),        # Функция активации ReLU\n",
        "            nn.Linear(128, 64),           # Второй слой\n",
        "            nn.ReLU(inplace=True),        # Функция активации ReLU\n",
        "            nn.Linear(64, num_actions)    # Выходной слой\n",
        "        )\n",
        "\n",
        "    def forward(self, x):\n",
        "        return self.network(x)  # Прямое распространение через сеть\n",
        "\n",
        "# Настройка параметров\n",
        "state_size = X_train.shape[1]  # Размерность состояния\n",
        "num_actions = 2                # Количество возможных действий\n",
        "discount_factor = 0.99         # Коэффициент дисконтирования\n",
        "exploration_rate = 1.0         # Начальная вероятность случайного действия\n",
        "min_exploration_rate = 0.01    # Минимальная вероятность исследования\n",
        "exploration_decay = 0.995      # Скорость уменьшения exploration rate\n",
        "learning_rate = 0.001          # Скорость обучения\n",
        "sample_batch_size = 64         # Размер батча для обучения\n",
        "experience_buffer = deque(maxlen=10000)  # Буфер воспроизведения опыта\n",
        "\n",
        "# Инициализация устройства и модели\n",
        "compute_device = torch.device(\"cuda\" if torch.cuda.is_available() else \"cpu\")  # Выбор устройства\n",
        "q_network = DeepQNetwork(state_size, num_actions).to(compute_device)  # Создание модели\n",
        "network_optimizer = optim.Adam(q_network.parameters(), lr=learning_rate)  # Оптимизатор\n",
        "criterion = nn.MSELoss()  # Функция потерь\n",
        "\n",
        "# Функция для выбора действия\n",
        "def get_action(current_state, exploration_prob):\n",
        "    if random.random() < exploration_prob:  # Исследование\n",
        "        return random.randrange(num_actions)\n",
        "\n",
        "    current_state = torch.FloatTensor(current_state).unsqueeze(0).to(compute_device)  # Преобразование состояния\n",
        "    with torch.no_grad():  # Отключение градиентов\n",
        "        action_values = q_network(current_state)  # Получение значений действий\n",
        "    return action_values.argmax().item()  # Возврат действия с максимальным значением\n"
      ],
      "metadata": {
        "id": "zmewMjOhCKLu"
      },
      "execution_count": null,
      "outputs": []
    },
    {
      "cell_type": "markdown",
      "source": [
        "Обучение агента"
      ],
      "metadata": {
        "id": "e2mA7QktCSG6"
      }
    },
    {
      "cell_type": "markdown",
      "source": [
        "EPISODES = 100\n",
        "\n",
        "BATCH_SIZE = 256\n",
        "\n",
        "BUFFER_SIZE = 100000\n",
        "\n",
        "GAMMA = 0.99\n",
        "\n",
        "EPS_START, EPS_END = 1.0, 0.02\n",
        "\n",
        "LR = 0.0005\n",
        "\n",
        "WARMUP_STEPS = 1000\n",
        "\n",
        "количество эпизодов, размер батча, размер буфера воспроизведения, коэффициент дисконтирования, начальная и конечная вероятности исследования, скорость обучения и количество шагов для разогрева"
      ],
      "metadata": {
        "id": "Qz_lzu4l_yqV"
      }
    },
    {
      "cell_type": "code",
      "source": [
        "\n",
        "class FastDQN(nn.Module):  # Оптимизированная нейросеть (без BatchNorm для инференса)\n",
        "    def __init__(self, input_dim, output_dim):\n",
        "        super().__init__()\n",
        "        self.net = nn.Sequential(\n",
        "            nn.Linear(input_dim, 256),  # Первый слой с 256 нейронами\n",
        "            nn.LayerNorm(256),          # Замена BatchNorm на LayerNorm\n",
        "            nn.LeakyReLU(0.1),          # Функция активации LeakyReLU\n",
        "            nn.Linear(256, 128),        # Второй слой с 128 нейронами\n",
        "            nn.LayerNorm(128),          # Замена BatchNorm на LayerNorm\n",
        "            nn.LeakyReLU(0.1),          # Функция активации LeakyReLU\n",
        "            nn.Linear(128, output_dim)  # Выходной слой с количеством действий\n",
        "        )\n",
        "\n",
        "    def forward(self, x):\n",
        "        return self.net(x)  # Прямое распространение через сеть\n",
        "\n",
        "\n",
        "\n",
        "EPISODES = 100\n",
        "BATCH_SIZE = 256\n",
        "BUFFER_SIZE = 100000\n",
        "GAMMA = 0.99\n",
        "EPS_START, EPS_END = 1.0, 0.02\n",
        "LR = 0.0005\n",
        "WARMUP_STEPS = 1000\n",
        "\n",
        "\n",
        "device = torch.device(\"cuda\" if torch.cuda.is_available() else \"cpu\")  # Инициализация устройства для вычислений\n",
        "state_dim = X_train.shape[1]  # Размерность состояния\n",
        "policy_net = FastDQN(state_dim, 2).to(device)  # Создание экземпляра модели и перенос на устройство\n",
        "target_net = FastDQN(state_dim, 2).to(device)  # Создание целевой сети\n",
        "target_net.load_state_dict(policy_net.state_dict())  # Копирование весов из policy_net в target_net\n",
        "\n",
        "optimizer = optim.AdamW(policy_net.parameters(), lr=LR, weight_decay=1e-5)  # Оптимизатор AdamW\n",
        "loss_fn = nn.SmoothL1Loss()  # Функция потерь (Smooth L1 Loss)\n",
        "memory = deque(maxlen=BUFFER_SIZE)  # Буфер воспроизведения опыта\n",
        "global_step = 0  # Глобальный счетчик шагов\n",
        "\n",
        "\n",
        "\n",
        "def select_action(state, epsilon):  # Функция выбора действия\n",
        "    global global_step\n",
        "    if random.random() < epsilon or global_step < WARMUP_STEPS:\n",
        "        return random.randint(0, 1)  # Случайное действие\n",
        "\n",
        "    with torch.no_grad():  # Отключение градиентов для вычислений\n",
        "        policy_net.eval()  # Переключаем модель в режим оценки\n",
        "        state_tensor = torch.FloatTensor(state).unsqueeze(0).to(device)  # Преобразование состояния в тензор\n",
        "        action = policy_net(state_tensor).argmax().item()  # Получение действия с максимальным значением\n",
        "        policy_net.train()  # Возвращаем модель в режим обучения\n",
        "        return action\n",
        "\n",
        "\n",
        "\n",
        "for episode in trange(EPISODES, desc=\"Обучение\"):  # Основной цикл обучения\n",
        "    state = env.reset()  # Сброс среды\n",
        "    episode_reward = 0  # Награда за эпизод\n",
        "    epsilon = max(EPS_END, EPS_START * (0.99 ** episode))  # Обновление вероятности исследования\n",
        "\n",
        "    for step in range(1000):\n",
        "        global_step += 1\n",
        "        action = select_action(state, epsilon)  # Выбор действия\n",
        "        next_state, reward, done, _ = env.step(action)  # Выполнение действия в среде\n",
        "\n",
        "        priority = abs(reward) + 0.01  # Сохраняем опыт с простым приоритетом\n",
        "        memory.append((state, action, reward, next_state, done, priority))  # Добавление опыта в буфер\n",
        "        episode_reward += reward  # Обновление награды за эпизод\n",
        "        state = next_state  # Переход к следующему состоянию\n",
        "\n",
        "        if global_step % 4 == 0 and len(memory) >= BATCH_SIZE:  # Обучение на батче\n",
        "            batch = random.choices(memory, k=BATCH_SIZE)  # Случайный выбор батча из буфера\n",
        "            states, actions, rewards, next_states, dones, _ = zip(*batch)  # Распаковка батча\n",
        "\n",
        "            # Конвертация в тензоры\n",
        "            states = torch.FloatTensor(np.array(states)).to(device)\n",
        "            actions = torch.LongTensor(np.array(actions)).unsqueeze(1).to(device)\n",
        "            rewards = torch.FloatTensor(np.array(rewards)).unsqueeze(1).to(device)\n",
        "            next_states = torch.FloatTensor(np.array(next_states)).to(device)\n",
        "            dones = torch.BoolTensor(np.array(dones)).unsqueeze(1).to(device)\n",
        "\n",
        "            with torch.no_grad():  # Double DQN\n",
        "                next_actions = policy_net(next_states).argmax(1, keepdim=True)  # Получение действий для следующего состояния\n",
        "                next_q = target_net(next_states).gather(1, next_actions)  # Получение Q-значений для следующего состояния\n",
        "                targets = rewards + GAMMA * next_q * (~dones)  # Вычисление целевых Q-значений\n",
        "\n",
        "            current_q = policy_net(states).gather(1, actions)  # Получение текущих Q-значений\n",
        "            loss = loss_fn(current_q, targets)  # Вычисление потерь\n",
        "\n",
        "            optimizer.zero_grad()  # Обнуление градиентов\n",
        "            loss.backward()  # Обратное распространение\n",
        "            torch.nn.utils.clip_grad_norm_(policy_net.parameters(), 10)  # Обрезка градиентов\n",
        "            optimizer.step()  # Обновление весов\n",
        "\n",
        "            if global_step % 100 == 0:  # Мягкое обновление целевой сети\n",
        "                target_net.load_state_dict(policy_net.state_dict())  # Копирование весов из policy_net в target_net\n",
        "\n",
        "        if done:  # Если эпизод завершен\n",
        "            break\n",
        "\n",
        "    print(f\"Эпизод {episode + 1}: Награда={episode_reward:.1f}, ε={epsilon:.3f}\")  # Вывод информации об эпизоде\n"
      ],
      "metadata": {
        "colab": {
          "base_uri": "https://localhost:8080/"
        },
        "id": "vo2UlbvuQ6q2",
        "outputId": "f178dcb4-ebfc-4f8a-ebb8-275b6c509dd6"
      },
      "execution_count": null,
      "outputs": [
        {
          "output_type": "stream",
          "name": "stderr",
          "text": [
            "Обучение:   1%|          | 1/100 [00:03<06:08,  3.72s/it]"
          ]
        },
        {
          "output_type": "stream",
          "name": "stdout",
          "text": [
            "Эпизод 1: Награда=-36.0, ε=1.000\n"
          ]
        },
        {
          "output_type": "stream",
          "name": "stderr",
          "text": [
            "\rОбучение:   2%|▏         | 2/100 [00:06<05:24,  3.31s/it]"
          ]
        },
        {
          "output_type": "stream",
          "name": "stdout",
          "text": [
            "Эпизод 2: Награда=52.0, ε=0.990\n"
          ]
        },
        {
          "output_type": "stream",
          "name": "stderr",
          "text": [
            "\rОбучение:   3%|▎         | 3/100 [00:08<04:31,  2.80s/it]"
          ]
        },
        {
          "output_type": "stream",
          "name": "stdout",
          "text": [
            "Эпизод 3: Награда=12.0, ε=0.980\n"
          ]
        },
        {
          "output_type": "stream",
          "name": "stderr",
          "text": [
            "\rОбучение:   4%|▍         | 4/100 [00:11<04:28,  2.79s/it]"
          ]
        },
        {
          "output_type": "stream",
          "name": "stdout",
          "text": [
            "Эпизод 4: Награда=2.0, ε=0.970\n"
          ]
        },
        {
          "output_type": "stream",
          "name": "stderr",
          "text": [
            "\rОбучение:   5%|▌         | 5/100 [00:14<04:22,  2.77s/it]"
          ]
        },
        {
          "output_type": "stream",
          "name": "stdout",
          "text": [
            "Эпизод 5: Награда=52.0, ε=0.961\n"
          ]
        },
        {
          "output_type": "stream",
          "name": "stderr",
          "text": [
            "\rОбучение:   6%|▌         | 6/100 [00:16<03:58,  2.53s/it]"
          ]
        },
        {
          "output_type": "stream",
          "name": "stdout",
          "text": [
            "Эпизод 6: Награда=76.0, ε=0.951\n"
          ]
        },
        {
          "output_type": "stream",
          "name": "stderr",
          "text": [
            "\rОбучение:   7%|▋         | 7/100 [00:18<03:38,  2.35s/it]"
          ]
        },
        {
          "output_type": "stream",
          "name": "stdout",
          "text": [
            "Эпизод 7: Награда=46.0, ε=0.941\n"
          ]
        },
        {
          "output_type": "stream",
          "name": "stderr",
          "text": [
            "\rОбучение:   8%|▊         | 8/100 [00:20<03:28,  2.26s/it]"
          ]
        },
        {
          "output_type": "stream",
          "name": "stdout",
          "text": [
            "Эпизод 8: Награда=18.0, ε=0.932\n"
          ]
        },
        {
          "output_type": "stream",
          "name": "stderr",
          "text": [
            "\rОбучение:   9%|▉         | 9/100 [00:22<03:22,  2.23s/it]"
          ]
        },
        {
          "output_type": "stream",
          "name": "stdout",
          "text": [
            "Эпизод 9: Награда=48.0, ε=0.923\n"
          ]
        },
        {
          "output_type": "stream",
          "name": "stderr",
          "text": [
            "\rОбучение:  10%|█         | 10/100 [00:25<03:44,  2.50s/it]"
          ]
        },
        {
          "output_type": "stream",
          "name": "stdout",
          "text": [
            "Эпизод 10: Награда=94.0, ε=0.914\n"
          ]
        },
        {
          "output_type": "stream",
          "name": "stderr",
          "text": [
            "\rОбучение:  11%|█         | 11/100 [00:28<03:41,  2.49s/it]"
          ]
        },
        {
          "output_type": "stream",
          "name": "stdout",
          "text": [
            "Эпизод 11: Награда=116.0, ε=0.904\n"
          ]
        },
        {
          "output_type": "stream",
          "name": "stderr",
          "text": [
            "\rОбучение:  12%|█▏        | 12/100 [00:30<03:28,  2.36s/it]"
          ]
        },
        {
          "output_type": "stream",
          "name": "stdout",
          "text": [
            "Эпизод 12: Награда=64.0, ε=0.895\n"
          ]
        },
        {
          "output_type": "stream",
          "name": "stderr",
          "text": [
            "\rОбучение:  13%|█▎        | 13/100 [00:32<03:14,  2.23s/it]"
          ]
        },
        {
          "output_type": "stream",
          "name": "stdout",
          "text": [
            "Эпизод 13: Награда=132.0, ε=0.886\n"
          ]
        },
        {
          "output_type": "stream",
          "name": "stderr",
          "text": [
            "\rОбучение:  14%|█▍        | 14/100 [00:34<03:11,  2.23s/it]"
          ]
        },
        {
          "output_type": "stream",
          "name": "stdout",
          "text": [
            "Эпизод 14: Награда=106.0, ε=0.878\n"
          ]
        },
        {
          "output_type": "stream",
          "name": "stderr",
          "text": [
            "\rОбучение:  15%|█▌        | 15/100 [00:37<03:16,  2.31s/it]"
          ]
        },
        {
          "output_type": "stream",
          "name": "stdout",
          "text": [
            "Эпизод 15: Награда=98.0, ε=0.869\n"
          ]
        },
        {
          "output_type": "stream",
          "name": "stderr",
          "text": [
            "\rОбучение:  16%|█▌        | 16/100 [00:40<03:33,  2.54s/it]"
          ]
        },
        {
          "output_type": "stream",
          "name": "stdout",
          "text": [
            "Эпизод 16: Награда=96.0, ε=0.860\n"
          ]
        },
        {
          "output_type": "stream",
          "name": "stderr",
          "text": [
            "\rОбучение:  17%|█▋        | 17/100 [00:42<03:23,  2.45s/it]"
          ]
        },
        {
          "output_type": "stream",
          "name": "stdout",
          "text": [
            "Эпизод 17: Награда=140.0, ε=0.851\n"
          ]
        },
        {
          "output_type": "stream",
          "name": "stderr",
          "text": [
            "\rОбучение:  18%|█▊        | 18/100 [00:44<03:14,  2.37s/it]"
          ]
        },
        {
          "output_type": "stream",
          "name": "stdout",
          "text": [
            "Эпизод 18: Награда=194.0, ε=0.843\n"
          ]
        },
        {
          "output_type": "stream",
          "name": "stderr",
          "text": [
            "\rОбучение:  19%|█▉        | 19/100 [00:46<03:04,  2.28s/it]"
          ]
        },
        {
          "output_type": "stream",
          "name": "stdout",
          "text": [
            "Эпизод 19: Награда=168.0, ε=0.835\n"
          ]
        },
        {
          "output_type": "stream",
          "name": "stderr",
          "text": [
            "\rОбучение:  20%|██        | 20/100 [00:48<02:57,  2.22s/it]"
          ]
        },
        {
          "output_type": "stream",
          "name": "stdout",
          "text": [
            "Эпизод 20: Награда=134.0, ε=0.826\n"
          ]
        },
        {
          "output_type": "stream",
          "name": "stderr",
          "text": [
            "\rОбучение:  21%|██        | 21/100 [00:51<03:06,  2.36s/it]"
          ]
        },
        {
          "output_type": "stream",
          "name": "stdout",
          "text": [
            "Эпизод 21: Награда=232.0, ε=0.818\n"
          ]
        },
        {
          "output_type": "stream",
          "name": "stderr",
          "text": [
            "\rОбучение:  22%|██▏       | 22/100 [00:53<03:07,  2.40s/it]"
          ]
        },
        {
          "output_type": "stream",
          "name": "stdout",
          "text": [
            "Эпизод 22: Награда=182.0, ε=0.810\n"
          ]
        },
        {
          "output_type": "stream",
          "name": "stderr",
          "text": [
            "\rОбучение:  23%|██▎       | 23/100 [00:56<03:00,  2.34s/it]"
          ]
        },
        {
          "output_type": "stream",
          "name": "stdout",
          "text": [
            "Эпизод 23: Награда=168.0, ε=0.802\n"
          ]
        },
        {
          "output_type": "stream",
          "name": "stderr",
          "text": [
            "\rОбучение:  24%|██▍       | 24/100 [00:58<02:54,  2.29s/it]"
          ]
        },
        {
          "output_type": "stream",
          "name": "stdout",
          "text": [
            "Эпизод 24: Награда=228.0, ε=0.794\n"
          ]
        },
        {
          "output_type": "stream",
          "name": "stderr",
          "text": [
            "\rОбучение:  25%|██▌       | 25/100 [01:00<02:47,  2.24s/it]"
          ]
        },
        {
          "output_type": "stream",
          "name": "stdout",
          "text": [
            "Эпизод 25: Награда=242.0, ε=0.786\n"
          ]
        },
        {
          "output_type": "stream",
          "name": "stderr",
          "text": [
            "\rОбучение:  26%|██▌       | 26/100 [01:02<02:43,  2.22s/it]"
          ]
        },
        {
          "output_type": "stream",
          "name": "stdout",
          "text": [
            "Эпизод 26: Награда=238.0, ε=0.778\n"
          ]
        },
        {
          "output_type": "stream",
          "name": "stderr",
          "text": [
            "\rОбучение:  27%|██▋       | 27/100 [01:05<03:03,  2.51s/it]"
          ]
        },
        {
          "output_type": "stream",
          "name": "stdout",
          "text": [
            "Эпизод 27: Награда=190.0, ε=0.770\n"
          ]
        },
        {
          "output_type": "stream",
          "name": "stderr",
          "text": [
            "\rОбучение:  28%|██▊       | 28/100 [01:08<02:58,  2.48s/it]"
          ]
        },
        {
          "output_type": "stream",
          "name": "stdout",
          "text": [
            "Эпизод 28: Награда=328.0, ε=0.762\n"
          ]
        },
        {
          "output_type": "stream",
          "name": "stderr",
          "text": [
            "\rОбучение:  29%|██▉       | 29/100 [01:10<02:55,  2.47s/it]"
          ]
        },
        {
          "output_type": "stream",
          "name": "stdout",
          "text": [
            "Эпизод 29: Награда=204.0, ε=0.755\n"
          ]
        },
        {
          "output_type": "stream",
          "name": "stderr",
          "text": [
            "\rОбучение:  30%|███       | 30/100 [01:12<02:47,  2.39s/it]"
          ]
        },
        {
          "output_type": "stream",
          "name": "stdout",
          "text": [
            "Эпизод 30: Награда=224.0, ε=0.747\n"
          ]
        },
        {
          "output_type": "stream",
          "name": "stderr",
          "text": [
            "\rОбучение:  31%|███       | 31/100 [01:14<02:39,  2.31s/it]"
          ]
        },
        {
          "output_type": "stream",
          "name": "stdout",
          "text": [
            "Эпизод 31: Награда=240.0, ε=0.740\n"
          ]
        },
        {
          "output_type": "stream",
          "name": "stderr",
          "text": [
            "\rОбучение:  32%|███▏      | 32/100 [01:17<02:52,  2.54s/it]"
          ]
        },
        {
          "output_type": "stream",
          "name": "stdout",
          "text": [
            "Эпизод 32: Награда=290.0, ε=0.732\n"
          ]
        },
        {
          "output_type": "stream",
          "name": "stderr",
          "text": [
            "\rОбучение:  33%|███▎      | 33/100 [01:20<02:49,  2.53s/it]"
          ]
        },
        {
          "output_type": "stream",
          "name": "stdout",
          "text": [
            "Эпизод 33: Награда=320.0, ε=0.725\n"
          ]
        },
        {
          "output_type": "stream",
          "name": "stderr",
          "text": [
            "\rОбучение:  34%|███▍      | 34/100 [01:22<02:39,  2.41s/it]"
          ]
        },
        {
          "output_type": "stream",
          "name": "stdout",
          "text": [
            "Эпизод 34: Награда=322.0, ε=0.718\n"
          ]
        },
        {
          "output_type": "stream",
          "name": "stderr",
          "text": [
            "\rОбучение:  35%|███▌      | 35/100 [01:24<02:31,  2.32s/it]"
          ]
        },
        {
          "output_type": "stream",
          "name": "stdout",
          "text": [
            "Эпизод 35: Награда=328.0, ε=0.711\n"
          ]
        },
        {
          "output_type": "stream",
          "name": "stderr",
          "text": [
            "\rОбучение:  36%|███▌      | 36/100 [01:26<02:25,  2.27s/it]"
          ]
        },
        {
          "output_type": "stream",
          "name": "stdout",
          "text": [
            "Эпизод 36: Награда=282.0, ε=0.703\n"
          ]
        },
        {
          "output_type": "stream",
          "name": "stderr",
          "text": [
            "\rОбучение:  37%|███▋      | 37/100 [01:29<02:30,  2.39s/it]"
          ]
        },
        {
          "output_type": "stream",
          "name": "stdout",
          "text": [
            "Эпизод 37: Награда=316.0, ε=0.696\n"
          ]
        },
        {
          "output_type": "stream",
          "name": "stderr",
          "text": [
            "\rОбучение:  38%|███▊      | 38/100 [01:32<02:37,  2.54s/it]"
          ]
        },
        {
          "output_type": "stream",
          "name": "stdout",
          "text": [
            "Эпизод 38: Награда=318.0, ε=0.689\n"
          ]
        },
        {
          "output_type": "stream",
          "name": "stderr",
          "text": [
            "\rОбучение:  39%|███▉      | 39/100 [01:34<02:27,  2.42s/it]"
          ]
        },
        {
          "output_type": "stream",
          "name": "stdout",
          "text": [
            "Эпизод 39: Награда=336.0, ε=0.683\n"
          ]
        },
        {
          "output_type": "stream",
          "name": "stderr",
          "text": [
            "\rОбучение:  40%|████      | 40/100 [01:36<02:24,  2.40s/it]"
          ]
        },
        {
          "output_type": "stream",
          "name": "stdout",
          "text": [
            "Эпизод 40: Награда=312.0, ε=0.676\n"
          ]
        },
        {
          "output_type": "stream",
          "name": "stderr",
          "text": [
            "\rОбучение:  41%|████      | 41/100 [01:39<02:21,  2.41s/it]"
          ]
        },
        {
          "output_type": "stream",
          "name": "stdout",
          "text": [
            "Эпизод 41: Награда=348.0, ε=0.669\n"
          ]
        },
        {
          "output_type": "stream",
          "name": "stderr",
          "text": [
            "\rОбучение:  42%|████▏     | 42/100 [01:41<02:16,  2.35s/it]"
          ]
        },
        {
          "output_type": "stream",
          "name": "stdout",
          "text": [
            "Эпизод 42: Награда=380.0, ε=0.662\n"
          ]
        },
        {
          "output_type": "stream",
          "name": "stderr",
          "text": [
            "\rОбучение:  43%|████▎     | 43/100 [01:45<02:39,  2.80s/it]"
          ]
        },
        {
          "output_type": "stream",
          "name": "stdout",
          "text": [
            "Эпизод 43: Награда=382.0, ε=0.656\n"
          ]
        },
        {
          "output_type": "stream",
          "name": "stderr",
          "text": [
            "\rОбучение:  44%|████▍     | 44/100 [01:47<02:27,  2.64s/it]"
          ]
        },
        {
          "output_type": "stream",
          "name": "stdout",
          "text": [
            "Эпизод 44: Награда=412.0, ε=0.649\n"
          ]
        },
        {
          "output_type": "stream",
          "name": "stderr",
          "text": [
            "\rОбучение:  45%|████▌     | 45/100 [01:49<02:19,  2.54s/it]"
          ]
        },
        {
          "output_type": "stream",
          "name": "stdout",
          "text": [
            "Эпизод 45: Награда=408.0, ε=0.643\n"
          ]
        },
        {
          "output_type": "stream",
          "name": "stderr",
          "text": [
            "\rОбучение:  46%|████▌     | 46/100 [01:52<02:11,  2.44s/it]"
          ]
        },
        {
          "output_type": "stream",
          "name": "stdout",
          "text": [
            "Эпизод 46: Награда=336.0, ε=0.636\n"
          ]
        },
        {
          "output_type": "stream",
          "name": "stderr",
          "text": [
            "\rОбучение:  47%|████▋     | 47/100 [01:54<02:05,  2.37s/it]"
          ]
        },
        {
          "output_type": "stream",
          "name": "stdout",
          "text": [
            "Эпизод 47: Награда=358.0, ε=0.630\n"
          ]
        },
        {
          "output_type": "stream",
          "name": "stderr",
          "text": [
            "\rОбучение:  48%|████▊     | 48/100 [01:57<02:16,  2.63s/it]"
          ]
        },
        {
          "output_type": "stream",
          "name": "stdout",
          "text": [
            "Эпизод 48: Награда=356.0, ε=0.624\n"
          ]
        },
        {
          "output_type": "stream",
          "name": "stderr",
          "text": [
            "\rОбучение:  49%|████▉     | 49/100 [02:00<02:12,  2.61s/it]"
          ]
        },
        {
          "output_type": "stream",
          "name": "stdout",
          "text": [
            "Эпизод 49: Награда=300.0, ε=0.617\n"
          ]
        },
        {
          "output_type": "stream",
          "name": "stderr",
          "text": [
            "\rОбучение:  50%|█████     | 50/100 [02:02<02:07,  2.54s/it]"
          ]
        },
        {
          "output_type": "stream",
          "name": "stdout",
          "text": [
            "Эпизод 50: Награда=444.0, ε=0.611\n"
          ]
        },
        {
          "output_type": "stream",
          "name": "stderr",
          "text": [
            "\rОбучение:  51%|█████     | 51/100 [02:05<02:04,  2.53s/it]"
          ]
        },
        {
          "output_type": "stream",
          "name": "stdout",
          "text": [
            "Эпизод 51: Награда=416.0, ε=0.605\n"
          ]
        },
        {
          "output_type": "stream",
          "name": "stderr",
          "text": [
            "\rОбучение:  52%|█████▏    | 52/100 [02:07<02:00,  2.51s/it]"
          ]
        },
        {
          "output_type": "stream",
          "name": "stdout",
          "text": [
            "Эпизод 52: Награда=472.0, ε=0.599\n"
          ]
        },
        {
          "output_type": "stream",
          "name": "stderr",
          "text": [
            "\rОбучение:  53%|█████▎    | 53/100 [02:11<02:11,  2.80s/it]"
          ]
        },
        {
          "output_type": "stream",
          "name": "stdout",
          "text": [
            "Эпизод 53: Награда=382.0, ε=0.593\n"
          ]
        },
        {
          "output_type": "stream",
          "name": "stderr",
          "text": [
            "\rОбучение:  54%|█████▍    | 54/100 [02:13<02:01,  2.63s/it]"
          ]
        },
        {
          "output_type": "stream",
          "name": "stdout",
          "text": [
            "Эпизод 54: Награда=396.0, ε=0.587\n"
          ]
        },
        {
          "output_type": "stream",
          "name": "stderr",
          "text": [
            "\rОбучение:  55%|█████▌    | 55/100 [02:15<01:52,  2.50s/it]"
          ]
        },
        {
          "output_type": "stream",
          "name": "stdout",
          "text": [
            "Эпизод 55: Награда=456.0, ε=0.581\n"
          ]
        },
        {
          "output_type": "stream",
          "name": "stderr",
          "text": [
            "\rОбучение:  56%|█████▌    | 56/100 [02:17<01:50,  2.50s/it]"
          ]
        },
        {
          "output_type": "stream",
          "name": "stdout",
          "text": [
            "Эпизод 56: Награда=412.0, ε=0.575\n"
          ]
        },
        {
          "output_type": "stream",
          "name": "stderr",
          "text": [
            "\rОбучение:  57%|█████▋    | 57/100 [02:20<01:48,  2.53s/it]"
          ]
        },
        {
          "output_type": "stream",
          "name": "stdout",
          "text": [
            "Эпизод 57: Награда=402.0, ε=0.570\n"
          ]
        },
        {
          "output_type": "stream",
          "name": "stderr",
          "text": [
            "\rОбучение:  58%|█████▊    | 58/100 [02:23<01:57,  2.79s/it]"
          ]
        },
        {
          "output_type": "stream",
          "name": "stdout",
          "text": [
            "Эпизод 58: Награда=430.0, ε=0.564\n"
          ]
        },
        {
          "output_type": "stream",
          "name": "stderr",
          "text": [
            "\rОбучение:  59%|█████▉    | 59/100 [02:26<01:49,  2.68s/it]"
          ]
        },
        {
          "output_type": "stream",
          "name": "stdout",
          "text": [
            "Эпизод 59: Награда=418.0, ε=0.558\n"
          ]
        },
        {
          "output_type": "stream",
          "name": "stderr",
          "text": [
            "\rОбучение:  60%|██████    | 60/100 [02:28<01:44,  2.62s/it]"
          ]
        },
        {
          "output_type": "stream",
          "name": "stdout",
          "text": [
            "Эпизод 60: Награда=420.0, ε=0.553\n"
          ]
        },
        {
          "output_type": "stream",
          "name": "stderr",
          "text": [
            "\rОбучение:  61%|██████    | 61/100 [02:31<01:39,  2.55s/it]"
          ]
        },
        {
          "output_type": "stream",
          "name": "stdout",
          "text": [
            "Эпизод 61: Награда=434.0, ε=0.547\n"
          ]
        },
        {
          "output_type": "stream",
          "name": "stderr",
          "text": [
            "\rОбучение:  62%|██████▏   | 62/100 [02:33<01:36,  2.54s/it]"
          ]
        },
        {
          "output_type": "stream",
          "name": "stdout",
          "text": [
            "Эпизод 62: Награда=478.0, ε=0.542\n"
          ]
        },
        {
          "output_type": "stream",
          "name": "stderr",
          "text": [
            "\rОбучение:  63%|██████▎   | 63/100 [02:37<01:45,  2.85s/it]"
          ]
        },
        {
          "output_type": "stream",
          "name": "stdout",
          "text": [
            "Эпизод 63: Награда=448.0, ε=0.536\n"
          ]
        },
        {
          "output_type": "stream",
          "name": "stderr",
          "text": [
            "\rОбучение:  64%|██████▍   | 64/100 [02:39<01:38,  2.73s/it]"
          ]
        },
        {
          "output_type": "stream",
          "name": "stdout",
          "text": [
            "Эпизод 64: Награда=474.0, ε=0.531\n"
          ]
        },
        {
          "output_type": "stream",
          "name": "stderr",
          "text": [
            "\rОбучение:  65%|██████▌   | 65/100 [02:42<01:33,  2.67s/it]"
          ]
        },
        {
          "output_type": "stream",
          "name": "stdout",
          "text": [
            "Эпизод 65: Награда=486.0, ε=0.526\n"
          ]
        },
        {
          "output_type": "stream",
          "name": "stderr",
          "text": [
            "\rОбучение:  66%|██████▌   | 66/100 [02:45<01:31,  2.70s/it]"
          ]
        },
        {
          "output_type": "stream",
          "name": "stdout",
          "text": [
            "Эпизод 66: Награда=458.0, ε=0.520\n"
          ]
        },
        {
          "output_type": "stream",
          "name": "stderr",
          "text": [
            "\rОбучение:  67%|██████▋   | 67/100 [02:47<01:27,  2.65s/it]"
          ]
        },
        {
          "output_type": "stream",
          "name": "stdout",
          "text": [
            "Эпизод 67: Награда=502.0, ε=0.515\n"
          ]
        },
        {
          "output_type": "stream",
          "name": "stderr",
          "text": [
            "\rОбучение:  68%|██████▊   | 68/100 [02:50<01:32,  2.88s/it]"
          ]
        },
        {
          "output_type": "stream",
          "name": "stdout",
          "text": [
            "Эпизод 68: Награда=526.0, ε=0.510\n"
          ]
        },
        {
          "output_type": "stream",
          "name": "stderr",
          "text": [
            "\rОбучение:  69%|██████▉   | 69/100 [02:53<01:26,  2.78s/it]"
          ]
        },
        {
          "output_type": "stream",
          "name": "stdout",
          "text": [
            "Эпизод 69: Награда=458.0, ε=0.505\n"
          ]
        },
        {
          "output_type": "stream",
          "name": "stderr",
          "text": [
            "\rОбучение:  70%|███████   | 70/100 [02:56<01:20,  2.70s/it]"
          ]
        },
        {
          "output_type": "stream",
          "name": "stdout",
          "text": [
            "Эпизод 70: Награда=512.0, ε=0.500\n"
          ]
        },
        {
          "output_type": "stream",
          "name": "stderr",
          "text": [
            "\rОбучение:  71%|███████   | 71/100 [02:58<01:16,  2.62s/it]"
          ]
        },
        {
          "output_type": "stream",
          "name": "stdout",
          "text": [
            "Эпизод 71: Награда=512.0, ε=0.495\n"
          ]
        },
        {
          "output_type": "stream",
          "name": "stderr",
          "text": [
            "\rОбучение:  72%|███████▏  | 72/100 [03:01<01:15,  2.68s/it]"
          ]
        },
        {
          "output_type": "stream",
          "name": "stdout",
          "text": [
            "Эпизод 72: Награда=514.0, ε=0.490\n"
          ]
        },
        {
          "output_type": "stream",
          "name": "stderr",
          "text": [
            "\rОбучение:  73%|███████▎  | 73/100 [03:04<01:16,  2.84s/it]"
          ]
        },
        {
          "output_type": "stream",
          "name": "stdout",
          "text": [
            "Эпизод 73: Награда=512.0, ε=0.485\n"
          ]
        },
        {
          "output_type": "stream",
          "name": "stderr",
          "text": [
            "\rОбучение:  74%|███████▍  | 74/100 [03:07<01:13,  2.81s/it]"
          ]
        },
        {
          "output_type": "stream",
          "name": "stdout",
          "text": [
            "Эпизод 74: Награда=528.0, ε=0.480\n"
          ]
        },
        {
          "output_type": "stream",
          "name": "stderr",
          "text": [
            "\rОбучение:  75%|███████▌  | 75/100 [03:09<01:07,  2.71s/it]"
          ]
        },
        {
          "output_type": "stream",
          "name": "stdout",
          "text": [
            "Эпизод 75: Награда=478.0, ε=0.475\n"
          ]
        },
        {
          "output_type": "stream",
          "name": "stderr",
          "text": [
            "\rОбучение:  76%|███████▌  | 76/100 [03:12<01:03,  2.65s/it]"
          ]
        },
        {
          "output_type": "stream",
          "name": "stdout",
          "text": [
            "Эпизод 76: Награда=524.0, ε=0.471\n"
          ]
        },
        {
          "output_type": "stream",
          "name": "stderr",
          "text": [
            "\rОбучение:  77%|███████▋  | 77/100 [03:15<01:04,  2.80s/it]"
          ]
        },
        {
          "output_type": "stream",
          "name": "stdout",
          "text": [
            "Эпизод 77: Награда=548.0, ε=0.466\n"
          ]
        },
        {
          "output_type": "stream",
          "name": "stderr",
          "text": [
            "\rОбучение:  78%|███████▊  | 78/100 [03:18<01:02,  2.83s/it]"
          ]
        },
        {
          "output_type": "stream",
          "name": "stdout",
          "text": [
            "Эпизод 78: Награда=542.0, ε=0.461\n"
          ]
        },
        {
          "output_type": "stream",
          "name": "stderr",
          "text": [
            "\rОбучение:  79%|███████▉  | 79/100 [03:20<00:57,  2.73s/it]"
          ]
        },
        {
          "output_type": "stream",
          "name": "stdout",
          "text": [
            "Эпизод 79: Награда=554.0, ε=0.457\n"
          ]
        },
        {
          "output_type": "stream",
          "name": "stderr",
          "text": [
            "\rОбучение:  80%|████████  | 80/100 [03:23<00:54,  2.72s/it]"
          ]
        },
        {
          "output_type": "stream",
          "name": "stdout",
          "text": [
            "Эпизод 80: Награда=546.0, ε=0.452\n"
          ]
        },
        {
          "output_type": "stream",
          "name": "stderr",
          "text": [
            "\rОбучение:  81%|████████  | 81/100 [03:29<01:13,  3.86s/it]"
          ]
        },
        {
          "output_type": "stream",
          "name": "stdout",
          "text": [
            "Эпизод 81: Награда=626.0, ε=0.448\n"
          ]
        },
        {
          "output_type": "stream",
          "name": "stderr",
          "text": [
            "\rОбучение:  82%|████████▏ | 82/100 [03:36<01:21,  4.55s/it]"
          ]
        },
        {
          "output_type": "stream",
          "name": "stdout",
          "text": [
            "Эпизод 82: Награда=560.0, ε=0.443\n"
          ]
        },
        {
          "output_type": "stream",
          "name": "stderr",
          "text": [
            "\rОбучение:  83%|████████▎ | 83/100 [03:39<01:13,  4.32s/it]"
          ]
        },
        {
          "output_type": "stream",
          "name": "stdout",
          "text": [
            "Эпизод 83: Награда=534.0, ε=0.439\n"
          ]
        },
        {
          "output_type": "stream",
          "name": "stderr",
          "text": [
            "\rОбучение:  84%|████████▍ | 84/100 [03:45<01:15,  4.72s/it]"
          ]
        },
        {
          "output_type": "stream",
          "name": "stdout",
          "text": [
            "Эпизод 84: Награда=566.0, ε=0.434\n"
          ]
        },
        {
          "output_type": "stream",
          "name": "stderr",
          "text": [
            "\rОбучение:  85%|████████▌ | 85/100 [03:49<01:07,  4.47s/it]"
          ]
        },
        {
          "output_type": "stream",
          "name": "stdout",
          "text": [
            "Эпизод 85: Награда=560.0, ε=0.430\n"
          ]
        },
        {
          "output_type": "stream",
          "name": "stderr",
          "text": [
            "\rОбучение:  86%|████████▌ | 86/100 [03:53<01:00,  4.29s/it]"
          ]
        },
        {
          "output_type": "stream",
          "name": "stdout",
          "text": [
            "Эпизод 86: Награда=536.0, ε=0.426\n"
          ]
        },
        {
          "output_type": "stream",
          "name": "stderr",
          "text": [
            "\rОбучение:  87%|████████▋ | 87/100 [03:56<00:50,  3.89s/it]"
          ]
        },
        {
          "output_type": "stream",
          "name": "stdout",
          "text": [
            "Эпизод 87: Награда=614.0, ε=0.421\n"
          ]
        },
        {
          "output_type": "stream",
          "name": "stderr",
          "text": [
            "\rОбучение:  88%|████████▊ | 88/100 [04:00<00:47,  3.98s/it]"
          ]
        },
        {
          "output_type": "stream",
          "name": "stdout",
          "text": [
            "Эпизод 88: Награда=616.0, ε=0.417\n"
          ]
        },
        {
          "output_type": "stream",
          "name": "stderr",
          "text": [
            "\rОбучение:  89%|████████▉ | 89/100 [04:04<00:43,  4.00s/it]"
          ]
        },
        {
          "output_type": "stream",
          "name": "stdout",
          "text": [
            "Эпизод 89: Награда=616.0, ε=0.413\n"
          ]
        },
        {
          "output_type": "stream",
          "name": "stderr",
          "text": [
            "\rОбучение:  90%|█████████ | 90/100 [04:07<00:36,  3.65s/it]"
          ]
        },
        {
          "output_type": "stream",
          "name": "stdout",
          "text": [
            "Эпизод 90: Награда=598.0, ε=0.409\n"
          ]
        },
        {
          "output_type": "stream",
          "name": "stderr",
          "text": [
            "\rОбучение:  91%|█████████ | 91/100 [04:10<00:32,  3.56s/it]"
          ]
        },
        {
          "output_type": "stream",
          "name": "stdout",
          "text": [
            "Эпизод 91: Награда=614.0, ε=0.405\n"
          ]
        },
        {
          "output_type": "stream",
          "name": "stderr",
          "text": [
            "\rОбучение:  92%|█████████▏| 92/100 [04:13<00:25,  3.23s/it]"
          ]
        },
        {
          "output_type": "stream",
          "name": "stdout",
          "text": [
            "Эпизод 92: Награда=608.0, ε=0.401\n"
          ]
        },
        {
          "output_type": "stream",
          "name": "stderr",
          "text": [
            "\rОбучение:  93%|█████████▎| 93/100 [04:15<00:21,  3.03s/it]"
          ]
        },
        {
          "output_type": "stream",
          "name": "stdout",
          "text": [
            "Эпизод 93: Награда=624.0, ε=0.397\n"
          ]
        },
        {
          "output_type": "stream",
          "name": "stderr",
          "text": [
            "\rОбучение:  94%|█████████▍| 94/100 [04:18<00:17,  2.84s/it]"
          ]
        },
        {
          "output_type": "stream",
          "name": "stdout",
          "text": [
            "Эпизод 94: Награда=624.0, ε=0.393\n"
          ]
        },
        {
          "output_type": "stream",
          "name": "stderr",
          "text": [
            "\rОбучение:  95%|█████████▌| 95/100 [04:20<00:13,  2.76s/it]"
          ]
        },
        {
          "output_type": "stream",
          "name": "stdout",
          "text": [
            "Эпизод 95: Награда=656.0, ε=0.389\n"
          ]
        },
        {
          "output_type": "stream",
          "name": "stderr",
          "text": [
            "\rОбучение:  96%|█████████▌| 96/100 [04:24<00:12,  3.01s/it]"
          ]
        },
        {
          "output_type": "stream",
          "name": "stdout",
          "text": [
            "Эпизод 96: Награда=606.0, ε=0.385\n"
          ]
        },
        {
          "output_type": "stream",
          "name": "stderr",
          "text": [
            "\rОбучение:  97%|█████████▋| 97/100 [04:27<00:08,  2.92s/it]"
          ]
        },
        {
          "output_type": "stream",
          "name": "stdout",
          "text": [
            "Эпизод 97: Награда=644.0, ε=0.381\n"
          ]
        },
        {
          "output_type": "stream",
          "name": "stderr",
          "text": [
            "\rОбучение:  98%|█████████▊| 98/100 [04:29<00:05,  2.88s/it]"
          ]
        },
        {
          "output_type": "stream",
          "name": "stdout",
          "text": [
            "Эпизод 98: Награда=588.0, ε=0.377\n"
          ]
        },
        {
          "output_type": "stream",
          "name": "stderr",
          "text": [
            "\rОбучение:  99%|█████████▉| 99/100 [04:32<00:02,  2.76s/it]"
          ]
        },
        {
          "output_type": "stream",
          "name": "stdout",
          "text": [
            "Эпизод 99: Награда=644.0, ε=0.373\n"
          ]
        },
        {
          "output_type": "stream",
          "name": "stderr",
          "text": [
            "Обучение: 100%|██████████| 100/100 [04:37<00:00,  2.77s/it]"
          ]
        },
        {
          "output_type": "stream",
          "name": "stdout",
          "text": [
            "Эпизод 100: Награда=620.0, ε=0.370\n"
          ]
        },
        {
          "output_type": "stream",
          "name": "stderr",
          "text": [
            "\n"
          ]
        }
      ]
    },
    {
      "cell_type": "markdown",
      "source": [
        "Резульаты предсказаний"
      ],
      "metadata": {
        "id": "HhxqFN0tANDr"
      }
    },
    {
      "cell_type": "code",
      "source": [
        "# Преобразуем тестовые данные и метки в массивы NumPy\n",
        "test_states = np.asarray(X_test)\n",
        "test_labels = np.asarray(y_test)\n",
        "\n",
        "# Инициализируем список для хранения предсказаний\n",
        "test_predictions = []\n",
        "\n",
        "# Переводим модель в режим оценки\n",
        "policy_net.eval()\n",
        "\n",
        "# Выполняем предсказания на тестовых данных\n",
        "with torch.no_grad():  # Отключаем вычисление градиентов\n",
        "    for current_state in test_states:\n",
        "        # Подготавливаем данные для модели\n",
        "        state_tensor = torch.FloatTensor(current_state).unsqueeze(0).to(device)  # Преобразуем состояние в тензор\n",
        "\n",
        "        q_values = policy_net(state_tensor)  # Получаем Q-значения для текущего состояния\n",
        "\n",
        "        # Выбираем действие с максимальным Q-значением\n",
        "        predicted_action = torch.argmax(q_values).item()  # Получаем индекс действия с максимальным Q-значением\n",
        "\n",
        "        # Сохраняем предсказание\n",
        "        test_predictions.append(predicted_action)  # Добавляем предсказание в список\n",
        "\n",
        "# Выводим результаты классификации\n",
        "print(\"\\nРезультаты классификации:\")\n",
        "print(classification_report(\n",
        "    test_labels,\n",
        "    test_predictions,\n",
        "    target_names=[\"Без атаки\", \"Атака\"],  # Названия классов\n",
        "    digits=4  # Количество знаков после запятой\n",
        "))\n",
        "\n",
        "# Выводим матрицу ошибок\n",
        "print(\"\\nМатрица ошибок:\")\n",
        "print(confusion_matrix(test_labels, test_predictions))  # Выводим матрицу ошибок\n"
      ],
      "metadata": {
        "colab": {
          "base_uri": "https://localhost:8080/"
        },
        "id": "SRP5MQXNT3PW",
        "outputId": "87479b95-2f0d-4dda-bf60-c6eb098c25f2"
      },
      "execution_count": null,
      "outputs": [
        {
          "output_type": "stream",
          "name": "stdout",
          "text": [
            "\n",
            "Результаты классификации:\n",
            "              precision    recall  f1-score   support\n",
            "\n",
            "   Без атаки     0.9993    0.9960    0.9977    159044\n",
            "       Атака     0.9762    0.9959    0.9859     26041\n",
            "\n",
            "    accuracy                         0.9960    185085\n",
            "   macro avg     0.9878    0.9959    0.9918    185085\n",
            "weighted avg     0.9961    0.9960    0.9960    185085\n",
            "\n",
            "\n",
            "Матрица ошибок:\n",
            "[[158412    632]\n",
            " [   108  25933]]\n"
          ]
        }
      ]
    }
  ]
}